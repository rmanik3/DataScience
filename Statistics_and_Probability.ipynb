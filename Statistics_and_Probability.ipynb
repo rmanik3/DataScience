{
 "cells": [
  {
   "cell_type": "code",
   "execution_count": 2,
   "metadata": {},
   "outputs": [],
   "source": [
    "import numpy as np\n",
    "import pandas as pds\n",
    "from scipy import stats\n",
    "import seaborn as sns"
   ]
  },
  {
   "cell_type": "code",
   "execution_count": 3,
   "metadata": {
    "scrolled": false
   },
   "outputs": [],
   "source": [
    "x = np.array([3,6,9,12,15,18,21,24,27],float)"
   ]
  },
  {
   "cell_type": "code",
   "execution_count": 4,
   "metadata": {
    "scrolled": false
   },
   "outputs": [],
   "source": [
    "array = pds.DataFrame(x)"
   ]
  },
  {
   "cell_type": "code",
   "execution_count": 5,
   "metadata": {
    "scrolled": true
   },
   "outputs": [
    {
     "data": {
      "text/html": [
       "<div>\n",
       "<style scoped>\n",
       "    .dataframe tbody tr th:only-of-type {\n",
       "        vertical-align: middle;\n",
       "    }\n",
       "\n",
       "    .dataframe tbody tr th {\n",
       "        vertical-align: top;\n",
       "    }\n",
       "\n",
       "    .dataframe thead th {\n",
       "        text-align: right;\n",
       "    }\n",
       "</style>\n",
       "<table border=\"1\" class=\"dataframe\">\n",
       "  <thead>\n",
       "    <tr style=\"text-align: right;\">\n",
       "      <th></th>\n",
       "      <th>0</th>\n",
       "    </tr>\n",
       "  </thead>\n",
       "  <tbody>\n",
       "    <tr>\n",
       "      <th>count</th>\n",
       "      <td>9.000000</td>\n",
       "    </tr>\n",
       "    <tr>\n",
       "      <th>mean</th>\n",
       "      <td>15.000000</td>\n",
       "    </tr>\n",
       "    <tr>\n",
       "      <th>std</th>\n",
       "      <td>8.215838</td>\n",
       "    </tr>\n",
       "    <tr>\n",
       "      <th>min</th>\n",
       "      <td>3.000000</td>\n",
       "    </tr>\n",
       "    <tr>\n",
       "      <th>25%</th>\n",
       "      <td>9.000000</td>\n",
       "    </tr>\n",
       "    <tr>\n",
       "      <th>50%</th>\n",
       "      <td>15.000000</td>\n",
       "    </tr>\n",
       "    <tr>\n",
       "      <th>75%</th>\n",
       "      <td>21.000000</td>\n",
       "    </tr>\n",
       "    <tr>\n",
       "      <th>max</th>\n",
       "      <td>27.000000</td>\n",
       "    </tr>\n",
       "  </tbody>\n",
       "</table>\n",
       "</div>"
      ],
      "text/plain": [
       "               0\n",
       "count   9.000000\n",
       "mean   15.000000\n",
       "std     8.215838\n",
       "min     3.000000\n",
       "25%     9.000000\n",
       "50%    15.000000\n",
       "75%    21.000000\n",
       "max    27.000000"
      ]
     },
     "execution_count": 5,
     "metadata": {},
     "output_type": "execute_result"
    }
   ],
   "source": [
    "array.describe()\n",
    "#percentile values are not from one of the values in the array"
   ]
  },
  {
   "cell_type": "code",
   "execution_count": 6,
   "metadata": {},
   "outputs": [
    {
     "name": "stdout",
     "output_type": "stream",
     "text": [
      "0    0.774597\n",
      "dtype: float64\n",
      "0   -0.774597\n",
      "dtype: float64\n",
      "[0.78071099] [0.21928901]\n",
      "area under curve [56.14219739]\n",
      "0.5\n",
      "0.5\n"
     ]
    }
   ],
   "source": [
    "#Finding PDF & CDF using normal distirbution assumption\n",
    "#pdf for 21\n",
    "z_score_up = (21-np.mean(array))/np.std(x)\n",
    "print(z_score_up)\n",
    "z_score_low = (9-np.mean(array))/np.std(x)\n",
    "p_val_up = stats.norm.sf(abs(z_score_up))\n",
    "print(z_score_low)\n",
    "#cdf between values 21 & 9 -- Quartile to Quartile\n",
    "up_cdf = stats.norm.cdf(z_score_up)\n",
    "low_cdf = stats.norm.cdf(z_score_low)\n",
    "print(up_cdf, low_cdf)\n",
    "print('area under curve', (up_cdf-low_cdf)*100)\n",
    "print(stats.norm.sf(0))\n",
    "print(stats.norm.cdf(0))"
   ]
  },
  {
   "cell_type": "code",
   "execution_count": 7,
   "metadata": {
    "scrolled": false
   },
   "outputs": [
    {
     "data": {
      "text/html": [
       "<div>\n",
       "<style scoped>\n",
       "    .dataframe tbody tr th:only-of-type {\n",
       "        vertical-align: middle;\n",
       "    }\n",
       "\n",
       "    .dataframe tbody tr th {\n",
       "        vertical-align: top;\n",
       "    }\n",
       "\n",
       "    .dataframe thead th {\n",
       "        text-align: right;\n",
       "    }\n",
       "</style>\n",
       "<table border=\"1\" class=\"dataframe\">\n",
       "  <thead>\n",
       "    <tr style=\"text-align: right;\">\n",
       "      <th></th>\n",
       "      <th>0</th>\n",
       "    </tr>\n",
       "  </thead>\n",
       "  <tbody>\n",
       "    <tr>\n",
       "      <th>count</th>\n",
       "      <td>10.000000</td>\n",
       "    </tr>\n",
       "    <tr>\n",
       "      <th>mean</th>\n",
       "      <td>15.900000</td>\n",
       "    </tr>\n",
       "    <tr>\n",
       "      <th>std</th>\n",
       "      <td>11.049887</td>\n",
       "    </tr>\n",
       "    <tr>\n",
       "      <th>min</th>\n",
       "      <td>3.000000</td>\n",
       "    </tr>\n",
       "    <tr>\n",
       "      <th>25%</th>\n",
       "      <td>7.250000</td>\n",
       "    </tr>\n",
       "    <tr>\n",
       "      <th>50%</th>\n",
       "      <td>15.000000</td>\n",
       "    </tr>\n",
       "    <tr>\n",
       "      <th>75%</th>\n",
       "      <td>20.500000</td>\n",
       "    </tr>\n",
       "    <tr>\n",
       "      <th>max</th>\n",
       "      <td>40.000000</td>\n",
       "    </tr>\n",
       "  </tbody>\n",
       "</table>\n",
       "</div>"
      ],
      "text/plain": [
       "               0\n",
       "count  10.000000\n",
       "mean   15.900000\n",
       "std    11.049887\n",
       "min     3.000000\n",
       "25%     7.250000\n",
       "50%    15.000000\n",
       "75%    20.500000\n",
       "max    40.000000"
      ]
     },
     "execution_count": 7,
     "metadata": {},
     "output_type": "execute_result"
    }
   ],
   "source": [
    "x2 = [3,5,6,11,13,17,19,21,24,40]\n",
    "arr2 = pds.DataFrame(x2)\n",
    "arr2.describe()"
   ]
  },
  {
   "cell_type": "code",
   "execution_count": 8,
   "metadata": {},
   "outputs": [],
   "source": [
    "#calculation formula for Percentile-->it's different from Usual Percentile calculation as\n",
    "#it tends to take one of the values in the array\n",
    "#50% is Median-->13+17/2\n",
    "#25% is 6+(11-6)*0.25=6+1.25=7.25\n",
    "#75% is 19+(21-19)*0.75=19+1.5=20.5"
   ]
  },
  {
   "cell_type": "code",
   "execution_count": 9,
   "metadata": {
    "scrolled": false
   },
   "outputs": [
    {
     "data": {
      "image/png": "[encoded data removed]",
      "text/plain": [
       "<Figure size 432x288 with 1 Axes>"
      ]
     },
     "metadata": {
      "needs_background": "light"
     },
     "output_type": "display_data"
    }
   ],
   "source": [
    "#plotting quartile to quartile using box plot\n",
    "boxplot = sns.boxplot(data=arr2)"
   ]
  },
  {
   "cell_type": "code",
   "execution_count": 10,
   "metadata": {
    "scrolled": false
   },
   "outputs": [
    {
     "name": "stdout",
     "output_type": "stream",
     "text": [
      "0.042385649089155715\n"
     ]
    },
    {
     "data": {
      "text/plain": [
       "0.21885193839833317"
      ]
     },
     "execution_count": 10,
     "metadata": {},
     "output_type": "execute_result"
    }
   ],
   "source": [
    "#Use Scipy to calculate skewness & Curtosis and intuition of both\n",
    "print(stats.skew([1,2,3,4,5.1]))#Measure of Symmetry or lack thereof\n",
    "#formula for skew\n",
    "#skew = m3/m2^3/2-->m3-3rd Central moment,m2-second central moment\n",
    "stats.kurtosis([-28,2,3,4,5])#Measure of Heavy/Light tails"
   ]
  },
  {
   "cell_type": "code",
   "execution_count": 11,
   "metadata": {},
   "outputs": [
    {
     "name": "stdout",
     "output_type": "stream",
     "text": [
      "0.7316005889599014\n",
      "accept null hypothesis\n",
      "-0.34299717028501764\n",
      "0.7316005889599013\n"
     ]
    }
   ],
   "source": [
    "#Test of two Samples(Means) using Z Test\n",
    "#Assumptions\n",
    "#population variance is known\n",
    "#SAMPLE SIZE >30 -- after 30 t/z will be same\n",
    "#data points are independent\n",
    "#population follows normal distribution \n",
    "arr4=[1,2,3,4,5]\n",
    "arr5=[101,102,103,104,105]\n",
    "arr6=[5,6,1,2,3]\n",
    "#Null Hypothesis in this use case, the two samples are close to each other, alternative hypotheis to prove the samples are different\n",
    "#Variance/STD is same for both the samples\n",
    "#hypothesized Mean=0\n",
    "from statsmodels.stats import weightstats as stests\n",
    "ztest ,pval1 = stests.ztest(arr4, x2=arr6, value=0,alternative='two-sided')\n",
    "print(float(pval1))\n",
    "if pval1<0.05:\n",
    "    print(\"reject null hypothesis\")\n",
    "else:\n",
    "    print(\"accept null hypothesis\")\n",
    "#z-score\n",
    "import math as mt\n",
    "import statistics\n",
    "z_stat = (np.mean(arr4)-np.mean(arr6))/mt.sqrt((statistics.variance(arr4)+statistics.variance(arr6))/5)\n",
    "print(z_stat)\n",
    "p_val = stats.norm.cdf(z_stat)*2#due to two-tailed test OR 1-2*stats.norm.sf(z_score)\n",
    "print(p_val)"
   ]
  },
  {
   "cell_type": "code",
   "execution_count": 14,
   "metadata": {
    "scrolled": false
   },
   "outputs": [
    {
     "name": "stdout",
     "output_type": "stream",
     "text": [
      "accept null hypothesis\n",
      "7\n",
      "-0.34299717028501764\n",
      "0.7416705971201762\n",
      "accept null hypothesis\n"
     ]
    }
   ],
   "source": [
    "#Test of two Sample Means using t-Test assuming Variance unknown & Not Equal(Independent Samples)\n",
    "#sample size is small\n",
    "#independent samples (drawn from different normal populations)\n",
    "#population variance is unknown-t-stat will be calculated from sample variance\n",
    "from scipy.stats import ttest_ind\n",
    "ttest,p = ttest_ind(arr4, arr6)\n",
    "if p<0.05:\n",
    "    print(\"reject null hypothesis\")\n",
    "else:\n",
    "    print(\"accept null hypothesis\")\n",
    "df = len(arr4) + len(arr6) - 2 - 1#(n-k-1)-We have df to choose 4 values from 5 in Sample #1 and 3 from 5 in Sample #2\n",
    "print(df)\n",
    "t_stat = (np.mean(arr4)-np.mean(arr6))/mt.sqrt((statistics.variance(arr4)+statistics.variance(arr6))/5)\n",
    "print(t_stat)\n",
    "p_val = stats.t.cdf(t_stat, 7)*2  \n",
    "print(p_val)\n",
    "if p_val<0.05:\n",
    "    print(\"reject null hypothesis\")\n",
    "else:\n",
    "    print(\"accept null hypothesis\")"
   ]
  },
  {
   "cell_type": "code",
   "execution_count": 15,
   "metadata": {
    "scrolled": true
   },
   "outputs": [
    {
     "name": "stdout",
     "output_type": "stream",
     "text": [
      "0.11764705882352942 0.7404394537249626\n",
      "accept null hypothesis\n",
      "0.7404394537249626\n",
      "3.2\n"
     ]
    }
   ],
   "source": [
    "#Test of two Samples using F-Test(ANOVA) -- test Using Variance\n",
    "#assumed\n",
    "# The ANOVA test has important assumptions that must be satisfied in order for the associated p-value to be valid.\n",
    "# The samples are independent.\n",
    "# Each sample is from a normally distributed population.\n",
    "# The population standard deviations of the groups are all equal. This property is known as homoscedasticity.\n",
    "#Sample Use case, different sample population are treated with different drugs to find the efficiency of the drug\n",
    "#Different Treatment but samples are from the same population and usually they are mutually exclusive samples\n",
    "from scipy.stats import f_oneway\n",
    "f_stat, pval = f_oneway(arr4, arr6)\n",
    "print(f_stat,pval)\n",
    "if pval<0.05:\n",
    "    print(\"reject null hypothesis\")\n",
    "else:\n",
    "    print(\"accept null hypothesis\")\n",
    "p_val = stats.f.sf(f_stat, 1, 8)\n",
    "print(p_val)\n",
    "#DF(within Group)-->DFd=8(N-k), DF(between Group)DFn=1(k-1)\n",
    "#formula for F_stat=MSC/MSE MSC being Mean sum of squares between Group, MSE being Mean of total within group SS\n",
    "#MSC=SSC/k-1,MSE=SSE/N-k\n",
    "#MSC-->(3.4-3.2)^2+(3.0-3.2)^2=0.08 & 0.08/(2-1)=0.08\n",
    "Grand_mean = np.mean(np.concatenate((arr4,arr6)))\n",
    "print(Grand_mean)"
   ]
  },
  {
   "cell_type": "code",
   "execution_count": 16,
   "metadata": {},
   "outputs": [
    {
     "name": "stdout",
     "output_type": "stream",
     "text": [
      "0.7989658591927786\n",
      "accept null hypothesis\n"
     ]
    }
   ],
   "source": [
    "# Paired T-tests for dependent samples -->\n",
    "#metrics are from the same observations (like before/after a treatment or repeated tests)\n",
    "#OR observations are dependent in the sense the univariate measure's same for both samples - unemp rate for young/old males\n",
    "#for convenience use the same data(arr4/arr6)\n",
    "from scipy.stats import ttest_rel\n",
    "ttest,pval = ttest_rel(arr4,arr6)#before,after\n",
    "print(pval)\n",
    "if pval<0.05:\n",
    "    print(\"reject null hypothesis\")\n",
    "else:\n",
    "    print(\"accept null hypothesis\")"
   ]
  },
  {
   "cell_type": "code",
   "execution_count": null,
   "metadata": {},
   "outputs": [],
   "source": []
  }
 ],
 "metadata": {
  "kernelspec": {
   "display_name": "Python 3",
   "language": "python",
   "name": "python3"
  },
  "language_info": {
   "codemirror_mode": {
    "name": "ipython",
    "version": 3
   },
   "file_extension": ".py",
   "mimetype": "text/x-python",
   "name": "python",
   "nbconvert_exporter": "python",
   "pygments_lexer": "ipython3",
   "version": "3.7.9"
  }
 },
 "nbformat": 4,
 "nbformat_minor": 4
}
